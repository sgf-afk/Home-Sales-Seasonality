{
  "nbformat": 4,
  "nbformat_minor": 0,
  "metadata": {
    "colab": {
      "name": "Capstone_1_Data_Analysis.ipynb",
      "provenance": []
    },
    "kernelspec": {
      "name": "python3",
      "display_name": "Python 3"
    }
  },
  "cells": [
    {
      "cell_type": "markdown",
      "metadata": {
        "id": "dkY_iXc4pwYL",
        "colab_type": "text"
      },
      "source": [
        "# Introduction"
      ]
    },
    {
      "cell_type": "markdown",
      "metadata": {
        "id": "JwAi0zaUp8TX",
        "colab_type": "text"
      },
      "source": [
        "**Seasonality** is a commonly held belief in the real estate industry (I have been a real estate agent for 5 years), yet there is no significant data to support this idea that the same home sold at different times of year will yield a different price. The assumption is based on demand; it's believed in the spring there is a higher demand as there are more home shoppers on the market as opposed to winter when family events and year end tax implications may impact decisions or pricing."
      ]
    },
    {
      "cell_type": "markdown",
      "metadata": {
        "id": "JqQPwFzYpwgG",
        "colab_type": "text"
      },
      "source": [
        "# Hypothesis"
      ]
    },
    {
      "cell_type": "markdown",
      "metadata": {
        "id": "AQgvtdMup8zK",
        "colab_type": "text"
      },
      "source": [
        "Null Hypothesis = there is no significant difference in sales price relative to season.\n",
        "\n",
        "Alternative Hypothesis = there is a significant difference in sales price relative to season."
      ]
    },
    {
      "cell_type": "markdown",
      "metadata": {
        "id": "kRx4HGhNpwnb",
        "colab_type": "text"
      },
      "source": [
        "# Data"
      ]
    },
    {
      "cell_type": "markdown",
      "metadata": {
        "id": "xlISdfmHqH1X",
        "colab_type": "text"
      },
      "source": [
        "The data comes from Alachua County Property Appraiser, the local government agency that handles all Gainesville transactions. 4515 observations and 35 variables are in the original data set, which spans from Januuary 2017 to January 2019 and covers all sales of real estate in Gainesville, FL. \n",
        "\n",
        "Some sales data will be omitted that doesn't match the parameters of this study. This includes any intrinsically non-residential properties, and includes investment multifamily. It will, however, include residential houses bought for investment purchases due to their impact on general market value.\n",
        "\n",
        "Seven variables have null values for a majority of their records. These are: Improvement_Value, Deferred_Value, Land_Value, Classified_land_value, County_Exempt_Amount, Owner_Mail_Country, Owner_Mail_addr1 and School_Exempt_Amount."
      ]
    },
    {
      "cell_type": "code",
      "metadata": {
        "id": "Xf0o7qjcs0Vh",
        "colab_type": "code",
        "outputId": "940c6b75-fab2-46da-beaa-cf42828c9ab6",
        "colab": {
          "base_uri": "https://localhost:8080/",
          "height": 711
        }
      },
      "source": [
        "import math\n",
        "import pandas as pd\n",
        "import numpy as np\n",
        "from scipy import stats\n",
        "import matplotlib.pyplot as plt\n",
        "\n",
        "allsales = pd.read_csv('http://www.acpafl.org/DownloadData/Sales2019125132251.csv')\n",
        "\n",
        "allsales.columns = allsales.columns.str.lower()\n",
        "\n",
        "allsales.info()"
      ],
      "execution_count": 0,
      "outputs": [
        {
          "output_type": "stream",
          "text": [
            "<class 'pandas.core.frame.DataFrame'>\n",
            "RangeIndex: 4515 entries, 0 to 4514\n",
            "Data columns (total 35 columns):\n",
            "parcel                   4515 non-null object\n",
            "owner_mail_name          4515 non-null object\n",
            "owner_mail_addr1         32 non-null object\n",
            "owner_mail_addr2         4515 non-null object\n",
            "owner_mail_city          4515 non-null object\n",
            "owner_mail_state         4509 non-null object\n",
            "owner_mail_zip           4508 non-null object\n",
            "owner_mail_country       11 non-null object\n",
            "section                  4515 non-null int64\n",
            "township                 4515 non-null int64\n",
            "range                    4515 non-null int64\n",
            "city_code                4515 non-null int64\n",
            "city_desc                4515 non-null object\n",
            "prop_use_code            4515 non-null int64\n",
            "prop_use_desc            4515 non-null object\n",
            "nbhd_code                4515 non-null float64\n",
            "nbhd_desc                4515 non-null object\n",
            "htdsqft                  4515 non-null int64\n",
            "acres                    4514 non-null float64\n",
            "sbdv_code                4487 non-null float64\n",
            "sbdv_desc                4041 non-null object\n",
            "land_value               0 non-null float64\n",
            "classified_land_value    0 non-null float64\n",
            "improvement_value        0 non-null float64\n",
            "deferred_value           0 non-null float64\n",
            "county_exempt_amount     0 non-null float64\n",
            "school_exempt_amount     0 non-null float64\n",
            "loc_address              3891 non-null object\n",
            "sale_date                4515 non-null object\n",
            "sale_price               4515 non-null int64\n",
            "sale_vac_imp             4515 non-null object\n",
            "sale_qualified           4509 non-null object\n",
            "sale_book                4515 non-null int64\n",
            "sale_page                4515 non-null int64\n",
            "sale_deed_type           4515 non-null object\n",
            "dtypes: float64(9), int64(9), object(17)\n",
            "memory usage: 1.2+ MB\n"
          ],
          "name": "stdout"
        }
      ]
    },
    {
      "cell_type": "code",
      "metadata": {
        "id": "w2VwAig508GF",
        "colab_type": "code",
        "colab": {}
      },
      "source": [
        ""
      ],
      "execution_count": 0,
      "outputs": []
    },
    {
      "cell_type": "markdown",
      "metadata": {
        "id": "kd3zFLt4pwup",
        "colab_type": "text"
      },
      "source": [
        "# Methods : Cleaning Base Data 1"
      ]
    },
    {
      "cell_type": "markdown",
      "metadata": {
        "id": "jC2wKlbvuHyt",
        "colab_type": "text"
      },
      "source": [
        "For this analysis I will first isolate the desired residential transactions for this analysis into their own dataframe. From there I will segment my data into four variables representing each season over the two year span.\n",
        "\n",
        "Use histogram first to determine what the range of pricing is, get rid of outliers, and subdivide into seasons from there. Then use seasonal segmentations. \n",
        "\n",
        "Cleaning Base Data 1 is focused on cleaning the base data prior to segmenting, getting rid of columns, data that isn't relevant, and eliminating outliers."
      ]
    },
    {
      "cell_type": "code",
      "metadata": {
        "id": "fMEdSphV03hS",
        "colab_type": "code",
        "outputId": "f78e82a2-f075-47c9-d359-9ad0197ba8ed",
        "colab": {
          "base_uri": "https://localhost:8080/",
          "height": 797
        }
      },
      "source": [
        "# Here I am cleaning up my data to only have the desired transaction types\n",
        "\n",
        "allsales.columns\n",
        "\n",
        "allsales.prop_use_desc.unique()\n",
        "\n",
        "residential_sales_all = allsales[(allsales['prop_use_desc'] == 'SINGLE FAMILY') | (allsales['prop_use_desc'] == 'CONDOMINIUM')]\n",
        "\n",
        "\n",
        "# After segmenting out residential sales I decided to select specific columns relevant to my analysis\n",
        "\n",
        "\n",
        "residential_sales_columns= residential_sales_all[['parcel', 'loc_address', 'htdsqft', 'acres', 'sale_date', 'sale_price']]\n",
        "\n",
        "residential_sales_columns.info()\n",
        "\n",
        "\n",
        "# Detected some null values in loc_address, decided to drop that data\n",
        "\n",
        "\n",
        "residential_sales_no_na = residential_sales_columns.dropna()\n",
        "\n",
        "residential_sales_no_na.info()\n",
        "\n",
        "\n",
        "# looks good so far, going to sort_values(sale_price) to see if there are any values that are outliers\n",
        "\n",
        "\n",
        "residential_sales_no_na.sort_values(by = 'sale_price')\n",
        "\n",
        "\n",
        "# here I see there are two aspects of the data that need cleaning: 1) there are a bunch of 0 value homes,\n",
        "# which indicates a transfer of ownership outside of a traditional sale, & \n",
        "# 2) repeated high number sales value\n",
        "# which indicates an assemblage sale of a portfolio of properties (also not of interest)"
      ],
      "execution_count": 0,
      "outputs": [
        {
          "output_type": "stream",
          "text": [
            "<class 'pandas.core.frame.DataFrame'>\n",
            "Int64Index: 3768 entries, 0 to 4514\n",
            "Data columns (total 6 columns):\n",
            "parcel         3768 non-null object\n",
            "loc_address    3426 non-null object\n",
            "htdsqft        3768 non-null int64\n",
            "acres          3768 non-null float64\n",
            "sale_date      3768 non-null object\n",
            "sale_price     3768 non-null int64\n",
            "dtypes: float64(1), int64(2), object(3)\n",
            "memory usage: 206.1+ KB\n",
            "<class 'pandas.core.frame.DataFrame'>\n",
            "Int64Index: 3426 entries, 0 to 4514\n",
            "Data columns (total 6 columns):\n",
            "parcel         3426 non-null object\n",
            "loc_address    3426 non-null object\n",
            "htdsqft        3426 non-null int64\n",
            "acres          3426 non-null float64\n",
            "sale_date      3426 non-null object\n",
            "sale_price     3426 non-null int64\n",
            "dtypes: float64(1), int64(2), object(3)\n",
            "memory usage: 187.4+ KB\n"
          ],
          "name": "stdout"
        },
        {
          "output_type": "execute_result",
          "data": {
            "text/html": [
              "<div>\n",
              "<style scoped>\n",
              "    .dataframe tbody tr th:only-of-type {\n",
              "        vertical-align: middle;\n",
              "    }\n",
              "\n",
              "    .dataframe tbody tr th {\n",
              "        vertical-align: top;\n",
              "    }\n",
              "\n",
              "    .dataframe thead th {\n",
              "        text-align: right;\n",
              "    }\n",
              "</style>\n",
              "<table border=\"1\" class=\"dataframe\">\n",
              "  <thead>\n",
              "    <tr style=\"text-align: right;\">\n",
              "      <th></th>\n",
              "      <th>parcel</th>\n",
              "      <th>loc_address</th>\n",
              "      <th>htdsqft</th>\n",
              "      <th>acres</th>\n",
              "      <th>sale_date</th>\n",
              "      <th>sale_price</th>\n",
              "    </tr>\n",
              "  </thead>\n",
              "  <tbody>\n",
              "    <tr>\n",
              "      <th>380</th>\n",
              "      <td>06014-026-010</td>\n",
              "      <td>6310 NW 26TH TER</td>\n",
              "      <td>1481</td>\n",
              "      <td>0.25</td>\n",
              "      <td>2019-07-24</td>\n",
              "      <td>0</td>\n",
              "    </tr>\n",
              "    <tr>\n",
              "      <th>1459</th>\n",
              "      <td>06449-042-000</td>\n",
              "      <td>418 NW 27TH TER</td>\n",
              "      <td>1340</td>\n",
              "      <td>0.18</td>\n",
              "      <td>2019-05-21</td>\n",
              "      <td>0</td>\n",
              "    </tr>\n",
              "    <tr>\n",
              "      <th>1051</th>\n",
              "      <td>06105-082-000</td>\n",
              "      <td>3646 NW 23RD PL</td>\n",
              "      <td>1671</td>\n",
              "      <td>0.41</td>\n",
              "      <td>2018-08-31</td>\n",
              "      <td>0</td>\n",
              "    </tr>\n",
              "    <tr>\n",
              "      <th>3688</th>\n",
              "      <td>10360-000-000</td>\n",
              "      <td>1114 NE 6TH ST</td>\n",
              "      <td>1245</td>\n",
              "      <td>0.22</td>\n",
              "      <td>2019-04-04</td>\n",
              "      <td>0</td>\n",
              "    </tr>\n",
              "    <tr>\n",
              "      <th>2790</th>\n",
              "      <td>07917-100-028</td>\n",
              "      <td>1610 NW 42ND AVE</td>\n",
              "      <td>1558</td>\n",
              "      <td>0.21</td>\n",
              "      <td>2018-10-08</td>\n",
              "      <td>0</td>\n",
              "    </tr>\n",
              "    <tr>\n",
              "      <th>...</th>\n",
              "      <td>...</td>\n",
              "      <td>...</td>\n",
              "      <td>...</td>\n",
              "      <td>...</td>\n",
              "      <td>...</td>\n",
              "      <td>...</td>\n",
              "    </tr>\n",
              "    <tr>\n",
              "      <th>4068</th>\n",
              "      <td>13222-010-004</td>\n",
              "      <td>1030 SW 1ST AVE</td>\n",
              "      <td>1706</td>\n",
              "      <td>0.00</td>\n",
              "      <td>2018-06-14</td>\n",
              "      <td>17800000</td>\n",
              "    </tr>\n",
              "    <tr>\n",
              "      <th>4069</th>\n",
              "      <td>13222-010-005</td>\n",
              "      <td>1024 SW 1ST AVE</td>\n",
              "      <td>1158</td>\n",
              "      <td>0.00</td>\n",
              "      <td>2018-06-14</td>\n",
              "      <td>17800000</td>\n",
              "    </tr>\n",
              "    <tr>\n",
              "      <th>4065</th>\n",
              "      <td>13222-010-001</td>\n",
              "      <td>1022 SW 1ST AVE</td>\n",
              "      <td>1254</td>\n",
              "      <td>0.00</td>\n",
              "      <td>2018-06-14</td>\n",
              "      <td>17800000</td>\n",
              "    </tr>\n",
              "    <tr>\n",
              "      <th>4036</th>\n",
              "      <td>13089-000-000</td>\n",
              "      <td>325 SW 12TH ST</td>\n",
              "      <td>1627</td>\n",
              "      <td>0.14</td>\n",
              "      <td>2018-06-14</td>\n",
              "      <td>17800000</td>\n",
              "    </tr>\n",
              "    <tr>\n",
              "      <th>4067</th>\n",
              "      <td>13222-010-003</td>\n",
              "      <td>1028 SW 1ST AVE</td>\n",
              "      <td>1534</td>\n",
              "      <td>0.00</td>\n",
              "      <td>2018-06-14</td>\n",
              "      <td>17800000</td>\n",
              "    </tr>\n",
              "  </tbody>\n",
              "</table>\n",
              "<p>3426 rows × 6 columns</p>\n",
              "</div>"
            ],
            "text/plain": [
              "             parcel       loc_address  htdsqft  acres   sale_date  sale_price\n",
              "380   06014-026-010  6310 NW 26TH TER     1481   0.25  2019-07-24           0\n",
              "1459  06449-042-000   418 NW 27TH TER     1340   0.18  2019-05-21           0\n",
              "1051  06105-082-000   3646 NW 23RD PL     1671   0.41  2018-08-31           0\n",
              "3688  10360-000-000    1114 NE 6TH ST     1245   0.22  2019-04-04           0\n",
              "2790  07917-100-028  1610 NW 42ND AVE     1558   0.21  2018-10-08           0\n",
              "...             ...               ...      ...    ...         ...         ...\n",
              "4068  13222-010-004   1030 SW 1ST AVE     1706   0.00  2018-06-14    17800000\n",
              "4069  13222-010-005   1024 SW 1ST AVE     1158   0.00  2018-06-14    17800000\n",
              "4065  13222-010-001   1022 SW 1ST AVE     1254   0.00  2018-06-14    17800000\n",
              "4036  13089-000-000    325 SW 12TH ST     1627   0.14  2018-06-14    17800000\n",
              "4067  13222-010-003   1028 SW 1ST AVE     1534   0.00  2018-06-14    17800000\n",
              "\n",
              "[3426 rows x 6 columns]"
            ]
          },
          "metadata": {
            "tags": []
          },
          "execution_count": 175
        }
      ]
    },
    {
      "cell_type": "code",
      "metadata": {
        "id": "S7Xl3nsQ-AxC",
        "colab_type": "code",
        "outputId": "0cfe49a9-b140-40e0-d661-c6ea9dd7ac87",
        "colab": {
          "base_uri": "https://localhost:8080/",
          "height": 208
        }
      },
      "source": [
        "no_zeros = residential_sales_no_na['sale_price'] > 0 \n",
        "residential_sales_no_zeros = residential_sales_no_na.iloc[no_zeros.values]\n",
        "\n",
        "# let see if that takes care of all the bottom end outliers\n",
        "\n",
        "residential_sales_no_zeros.sort_values(by = 'sale_price')\n",
        "\n",
        "# looks like there are a bunch of values for $100 too, which is another method\n",
        "# of transfering property and doesn't represent real sales. In fact, I'd prefer \n",
        "# to avoid any transactions under $20,000 as those likely don't represent traditional transactions\n",
        "\n",
        "no_ones_either  = residential_sales_no_zeros['sale_price'] > 20000\n",
        "re_sales_bottom_clean = residential_sales_no_zeros.iloc[no_ones_either.values]\n",
        "\n",
        "re_sales_bottom_clean.info()\n",
        "\n",
        "# now I need to sort the top end and see if there are any duplicates for the portfolio sales\n",
        "# I plan on doing this by organizing by creating a new column that concatinates sale_date and sale_price.\n",
        "# I do this because while there are likely duplicate sales values under sales price, it's highly unlikely that both\n",
        "# price and date would be exactly the same."
      ],
      "execution_count": 0,
      "outputs": [
        {
          "output_type": "stream",
          "text": [
            "<class 'pandas.core.frame.DataFrame'>\n",
            "Int64Index: 3211 entries, 0 to 4514\n",
            "Data columns (total 6 columns):\n",
            "parcel         3211 non-null object\n",
            "loc_address    3211 non-null object\n",
            "htdsqft        3211 non-null int64\n",
            "acres          3211 non-null float64\n",
            "sale_date      3211 non-null object\n",
            "sale_price     3211 non-null int64\n",
            "dtypes: float64(1), int64(2), object(3)\n",
            "memory usage: 175.6+ KB\n"
          ],
          "name": "stdout"
        }
      ]
    },
    {
      "cell_type": "code",
      "metadata": {
        "id": "UK3P4fKuP71a",
        "colab_type": "code",
        "outputId": "aa2c4acf-5bcc-435d-b6ef-180e99fffab5",
        "colab": {
          "base_uri": "https://localhost:8080/",
          "height": 295
        }
      },
      "source": [
        "re_sales_bottom_clean = re_sales_bottom_clean.assign(date_price_combo = (re_sales_bottom_clean.sale_price).astype(str) + '' + (re_sales_bottom_clean.sale_date).astype(str))\n",
        "\n",
        "re_sales_clean = re_sales_bottom_clean.drop_duplicates(subset='date_price_combo')\n",
        "\n",
        "#worked great, now time to get rid of the extra created column\n",
        "\n",
        "re_sales_clean.drop(['date_price_combo'], axis = 1, inplace = True)\n",
        "\n",
        "re_sales_clean.info()"
      ],
      "execution_count": 0,
      "outputs": [
        {
          "output_type": "stream",
          "text": [
            "<class 'pandas.core.frame.DataFrame'>\n",
            "Int64Index: 3135 entries, 0 to 4514\n",
            "Data columns (total 6 columns):\n",
            "parcel         3135 non-null object\n",
            "loc_address    3135 non-null object\n",
            "htdsqft        3135 non-null int64\n",
            "acres          3135 non-null float64\n",
            "sale_date      3135 non-null object\n",
            "sale_price     3135 non-null int64\n",
            "dtypes: float64(1), int64(2), object(3)\n",
            "memory usage: 171.4+ KB\n"
          ],
          "name": "stdout"
        },
        {
          "output_type": "stream",
          "text": [
            "/usr/local/lib/python3.6/dist-packages/pandas/core/frame.py:4117: SettingWithCopyWarning: \n",
            "A value is trying to be set on a copy of a slice from a DataFrame\n",
            "\n",
            "See the caveats in the documentation: http://pandas.pydata.org/pandas-docs/stable/user_guide/indexing.html#returning-a-view-versus-a-copy\n",
            "  errors=errors,\n"
          ],
          "name": "stderr"
        }
      ]
    },
    {
      "cell_type": "code",
      "metadata": {
        "id": "LtS3vuZl3eKE",
        "colab_type": "code",
        "outputId": "33f09ee0-51d5-44da-e612-cb3b6d465670",
        "colab": {
          "base_uri": "https://localhost:8080/",
          "height": 303
        }
      },
      "source": [
        "# now that my data is relatively clean, I'm going to run a histogram to check the general distribution before \n",
        "# further segmenting. \n",
        "\n",
        "\n",
        "plt.hist(re_sales_clean['sale_price'], 30, range=[100000, 1000000], facecolor='gray', align='mid')\n",
        "plt.show()\n",
        "print(stats.describe(re_sales_clean['sale_price']))"
      ],
      "execution_count": 0,
      "outputs": [
        {
          "output_type": "display_data",
          "data": {
            "image/png": "[encoded data removed]",
            "text/plain": [
              "<Figure size 432x288 with 1 Axes>"
            ]
          },
          "metadata": {
            "tags": []
          }
        },
        {
          "output_type": "stream",
          "text": [
            "DescribeResult(nobs=3135, minmax=(22000, 17800000), mean=181643.8644338118, variance=109615732670.6731, skewness=48.211042808675856, kurtosis=2556.937203187635)\n"
          ],
          "name": "stdout"
        }
      ]
    },
    {
      "cell_type": "code",
      "metadata": {
        "id": "LHLlR1ORGhh0",
        "colab_type": "code",
        "outputId": "ffda4bc1-9ed3-4e3b-8395-fc4a47650d1d",
        "colab": {
          "base_uri": "https://localhost:8080/",
          "height": 303
        }
      },
      "source": [
        "# There are definitely some outliers I want to drop off my histogram range, it looks like the majority of my data set\n",
        "# falls under the 400,000 range so I will filter then run another histogram to try and remove outlier systematically\n",
        "\n",
        "outliers_gone_1  = re_sales_clean['sale_price'] < 400000\n",
        "\n",
        "re_sales_cleanish = re_sales_clean.iloc[outliers_gone_1.values]\n",
        "\n",
        "plt.hist(re_sales_cleanish['sale_price'], 30, range=[10000, 400000], facecolor='gray', align='mid')\n",
        "plt.show()\n",
        "print(stats.describe(re_sales_cleanish['sale_price']))"
      ],
      "execution_count": 0,
      "outputs": [
        {
          "output_type": "display_data",
          "data": {
            "image/png": "[encoded data removed]",
            "text/plain": [
              "<Figure size 432x288 with 1 Axes>"
            ]
          },
          "metadata": {
            "tags": []
          }
        },
        {
          "output_type": "stream",
          "text": [
            "DescribeResult(nobs=3068, minmax=(22000, 399000), mean=167302.21186440677, variance=5575531598.1272545, skewness=0.6434556375121188, kurtosis=-0.057785727683985044)\n"
          ],
          "name": "stdout"
        }
      ]
    },
    {
      "cell_type": "code",
      "metadata": {
        "id": "oqWlnYf_Lz_7",
        "colab_type": "code",
        "outputId": "777619f6-76d8-431b-d118-a5179190afdd",
        "colab": {
          "base_uri": "https://localhost:8080/",
          "height": 35
        }
      },
      "source": [
        "# that looks relatively normal for the base data set, but I want to shapiro-wilk test for normality\n",
        "\n",
        "print(stats.shapiro(re_sales_cleanish['sale_price']))\n",
        "\n",
        "# the w value looks to be very close to one, and the p value is very low so I feel confident in the normality in this base set"
      ],
      "execution_count": 0,
      "outputs": [
        {
          "output_type": "stream",
          "text": [
            "(0.9651998281478882, 1.349271698224303e-26)\n"
          ],
          "name": "stdout"
        }
      ]
    },
    {
      "cell_type": "markdown",
      "metadata": {
        "id": "kHxHwLPWOd8Z",
        "colab_type": "text"
      },
      "source": [
        "# Methods: Segmenting into Seasons"
      ]
    },
    {
      "cell_type": "markdown",
      "metadata": {
        "id": "ZRbUoDETOz8M",
        "colab_type": "text"
      },
      "source": [
        "Here I will begin to segment my base data into different seasons over the two year span. I believe the most efficient method is to create a new column for each season."
      ]
    },
    {
      "cell_type": "code",
      "metadata": {
        "id": "k_7-qz9ZQKgs",
        "colab_type": "code",
        "outputId": "b144f544-0519-4880-c750-542139661bed",
        "colab": {
          "base_uri": "https://localhost:8080/",
          "height": 208
        }
      },
      "source": [
        "re_sales_cleanish.info()"
      ],
      "execution_count": 0,
      "outputs": [
        {
          "output_type": "stream",
          "text": [
            "<class 'pandas.core.frame.DataFrame'>\n",
            "Int64Index: 3068 entries, 0 to 4514\n",
            "Data columns (total 6 columns):\n",
            "parcel         3068 non-null object\n",
            "loc_address    3068 non-null object\n",
            "htdsqft        3068 non-null int64\n",
            "acres          3068 non-null float64\n",
            "sale_date      3068 non-null object\n",
            "sale_price     3068 non-null int64\n",
            "dtypes: float64(1), int64(2), object(3)\n",
            "memory usage: 167.8+ KB\n"
          ],
          "name": "stdout"
        }
      ]
    },
    {
      "cell_type": "code",
      "metadata": {
        "id": "VghZQktsQO84",
        "colab_type": "code",
        "colab": {}
      },
      "source": [
        "re_sales_cleanish = re_sales_cleanish.assign(sale_date_string = (re_sales_cleanish.sale_date).astype(str))\n",
        "\n",
        "re_sales_cleanish[['Year','Month', 'Day']] = re_sales_cleanish.sale_date_string.str.split(\"-\",expand=True,)\n",
        "\n",
        "re_sales_cleanish.Month.unique()\n",
        "\n",
        "def season(x):\n",
        "    if \"3\" in x or \"4\" in x or \"5\" in x:\n",
        "        return 'Spring'\n",
        "    elif \"6\" in x or \"7\" in x or \"8\" in x:\n",
        "        return 'Summer'\n",
        "    elif \"9\" in x or \"10\" in x or \"11\" in x:\n",
        "        return 'Autumn'\n",
        "    else: return 'Winter'\n",
        "\n",
        "re_sales_cleanish['Season'] = re_sales_cleanish['Month'].apply(season)\n",
        "\n",
        "# now that I've created a column to identify season based on month, I'll segment my data and analyze each season\n",
        "\n",
        "re_sales_spring = re_sales_cleanish[re_sales_cleanish['Season'] == 'Spring']\n",
        "\n",
        "re_sales_summer = re_sales_cleanish[re_sales_cleanish['Season'] == 'Summer']\n",
        "\n",
        "re_sales_autumn = re_sales_cleanish[re_sales_cleanish['Season'] == 'Autumn']\n",
        "\n",
        "re_sales_winter = re_sales_cleanish[re_sales_cleanish['Season'] == 'Winter']\n"
      ],
      "execution_count": 0,
      "outputs": []
    },
    {
      "cell_type": "markdown",
      "metadata": {
        "id": "UYbSQB5Sh-Pr",
        "colab_type": "text"
      },
      "source": [
        "# Methods: Spring Analysis"
      ]
    },
    {
      "cell_type": "code",
      "metadata": {
        "id": "lZI7pYCceWBJ",
        "colab_type": "code",
        "outputId": "7bb2b123-e965-4d91-ec50-e804fa3baed2",
        "colab": {
          "base_uri": "https://localhost:8080/",
          "height": 753
        }
      },
      "source": [
        "# Analysis for spring, looks normal!\n",
        "re_sales_spring.info()\n",
        "\n",
        "print(re_sales_spring.describe())\n",
        "\n",
        "plt.hist(re_sales_spring['sale_price'])\n",
        "plt.show()\n",
        "\n",
        "print(stats.describe(re_sales_spring['sale_price']))\n",
        "print(stats.shapiro(re_sales_spring['sale_price']))\n"
      ],
      "execution_count": 0,
      "outputs": [
        {
          "output_type": "stream",
          "text": [
            "<class 'pandas.core.frame.DataFrame'>\n",
            "Int64Index: 935 entries, 0 to 4491\n",
            "Data columns (total 11 columns):\n",
            "parcel              935 non-null object\n",
            "loc_address         935 non-null object\n",
            "htdsqft             935 non-null int64\n",
            "acres               935 non-null float64\n",
            "sale_date           935 non-null object\n",
            "sale_price          935 non-null int64\n",
            "sale_date_string    935 non-null object\n",
            "Year                935 non-null object\n",
            "Month               935 non-null object\n",
            "Day                 935 non-null object\n",
            "Season              935 non-null object\n",
            "dtypes: float64(1), int64(2), object(8)\n",
            "memory usage: 87.7+ KB\n",
            "           htdsqft       acres     sale_price\n",
            "count   935.000000  935.000000     935.000000\n",
            "mean   1478.866310    0.192083  168304.171123\n",
            "std     531.059079    0.190455   74787.904341\n",
            "min       0.000000    0.010000   22000.000000\n",
            "25%    1131.500000    0.030000  115000.000000\n",
            "50%    1361.000000    0.170000  152000.000000\n",
            "75%    1733.000000    0.270000  218900.000000\n",
            "max    4681.000000    1.890000  394000.000000\n"
          ],
          "name": "stdout"
        },
        {
          "output_type": "display_data",
          "data": {
            "image/png": "[encoded data removed]",
            "text/plain": [
              "<Figure size 432x288 with 1 Axes>"
            ]
          },
          "metadata": {
            "tags": []
          }
        },
        {
          "output_type": "stream",
          "text": [
            "DescribeResult(nobs=935, minmax=(22000, 394000), mean=168304.17112299465, variance=5593230635.68803, skewness=0.6559724429223006, kurtosis=-0.08032717502833409)\n",
            "(0.9623806476593018, 8.664084024062688e-15)\n"
          ],
          "name": "stdout"
        }
      ]
    },
    {
      "cell_type": "markdown",
      "metadata": {
        "id": "_3Z0LXB3iAuM",
        "colab_type": "text"
      },
      "source": [
        "# Methods: Summer Analysis"
      ]
    },
    {
      "cell_type": "code",
      "metadata": {
        "id": "3JcvtM0sgYNN",
        "colab_type": "code",
        "outputId": "b9cd176b-0ecb-4520-d473-5b02394de9ed",
        "colab": {
          "base_uri": "https://localhost:8080/",
          "height": 753
        }
      },
      "source": [
        "# summer looks normal as well\n",
        "re_sales_summer.info()\n",
        "\n",
        "print(re_sales_summer.describe())\n",
        "\n",
        "plt.hist(re_sales_summer['sale_price'])\n",
        "plt.show()\n",
        "\n",
        "print(stats.describe(re_sales_summer['sale_price']))\n",
        "print(stats.shapiro(re_sales_summer['sale_price']))"
      ],
      "execution_count": 0,
      "outputs": [
        {
          "output_type": "stream",
          "text": [
            "<class 'pandas.core.frame.DataFrame'>\n",
            "Int64Index: 983 entries, 3 to 4514\n",
            "Data columns (total 11 columns):\n",
            "parcel              983 non-null object\n",
            "loc_address         983 non-null object\n",
            "htdsqft             983 non-null int64\n",
            "acres               983 non-null float64\n",
            "sale_date           983 non-null object\n",
            "sale_price          983 non-null int64\n",
            "sale_date_string    983 non-null object\n",
            "Year                983 non-null object\n",
            "Month               983 non-null object\n",
            "Day                 983 non-null object\n",
            "Season              983 non-null object\n",
            "dtypes: float64(1), int64(2), object(8)\n",
            "memory usage: 92.2+ KB\n",
            "           htdsqft       acres     sale_price\n",
            "count   983.000000  983.000000     983.000000\n",
            "mean   1475.186165    0.207185  167280.162767\n",
            "std     494.013577    0.299372   74654.145830\n",
            "min       0.000000    0.010000   22000.000000\n",
            "25%    1138.000000    0.040000  112250.000000\n",
            "50%    1364.000000    0.180000  156000.000000\n",
            "75%    1750.500000    0.270000  216000.000000\n",
            "max    3612.000000    5.950000  394000.000000\n"
          ],
          "name": "stdout"
        },
        {
          "output_type": "display_data",
          "data": {
            "image/png": "[encoded data removed]",
            "text/plain": [
              "<Figure size 432x288 with 1 Axes>"
            ]
          },
          "metadata": {
            "tags": []
          }
        },
        {
          "output_type": "stream",
          "text": [
            "DescribeResult(nobs=983, minmax=(22000, 394000), mean=167280.16276703967, variance=5573241489.562075, skewness=0.6544135069547149, kurtosis=-0.03444558566843536)\n",
            "(0.9638051986694336, 6.692239180216197e-15)\n"
          ],
          "name": "stdout"
        }
      ]
    },
    {
      "cell_type": "markdown",
      "metadata": {
        "id": "Hdq7OSumiCwN",
        "colab_type": "text"
      },
      "source": [
        "# Methods: Autumn Analysis"
      ]
    },
    {
      "cell_type": "code",
      "metadata": {
        "id": "GLUm1mfBhFj-",
        "colab_type": "code",
        "outputId": "fddf9a2b-8239-4092-d68a-572908b10d59",
        "colab": {
          "base_uri": "https://localhost:8080/",
          "height": 753
        }
      },
      "source": [
        "# autumn looks normal\n",
        "re_sales_autumn.info()\n",
        "\n",
        "print(re_sales_autumn.describe())\n",
        "\n",
        "plt.hist(re_sales_autumn['sale_price'])\n",
        "plt.show()\n",
        "\n",
        "print(stats.describe(re_sales_autumn['sale_price']))\n",
        "print(stats.shapiro(re_sales_autumn['sale_price']))"
      ],
      "execution_count": 0,
      "outputs": [
        {
          "output_type": "stream",
          "text": [
            "<class 'pandas.core.frame.DataFrame'>\n",
            "Int64Index: 571 entries, 11 to 4513\n",
            "Data columns (total 11 columns):\n",
            "parcel              571 non-null object\n",
            "loc_address         571 non-null object\n",
            "htdsqft             571 non-null int64\n",
            "acres               571 non-null float64\n",
            "sale_date           571 non-null object\n",
            "sale_price          571 non-null int64\n",
            "sale_date_string    571 non-null object\n",
            "Year                571 non-null object\n",
            "Month               571 non-null object\n",
            "Day                 571 non-null object\n",
            "Season              571 non-null object\n",
            "dtypes: float64(1), int64(2), object(8)\n",
            "memory usage: 53.5+ KB\n",
            "           htdsqft       acres     sale_price\n",
            "count   571.000000  571.000000     571.000000\n",
            "mean   1501.290718    0.218047  169786.964974\n",
            "std     495.582736    0.445379   75641.529462\n",
            "min       0.000000    0.000000   33000.000000\n",
            "25%    1172.000000    0.077500  119000.000000\n",
            "50%    1400.000000    0.190000  156000.000000\n",
            "75%    1739.500000    0.260000  216500.000000\n",
            "max    4582.000000   10.000000  399000.000000\n"
          ],
          "name": "stdout"
        },
        {
          "output_type": "display_data",
          "data": {
            "image/png": "[encoded data removed]",
            "text/plain": [
              "<Figure size 432x288 with 1 Axes>"
            ]
          },
          "metadata": {
            "tags": []
          }
        },
        {
          "output_type": "stream",
          "text": [
            "DescribeResult(nobs=571, minmax=(33000, 399000), mean=169786.9649737303, variance=5721640979.3496475, skewness=0.6745578344129279, kurtosis=0.05070501249824888)\n",
            "(0.9626743793487549, 7.369280186075855e-11)\n"
          ],
          "name": "stdout"
        }
      ]
    },
    {
      "cell_type": "markdown",
      "metadata": {
        "id": "_hqEIW7KiGSs",
        "colab_type": "text"
      },
      "source": [
        "# Methods: Winter Analysis"
      ]
    },
    {
      "cell_type": "code",
      "metadata": {
        "id": "eWFtQEwShqCo",
        "colab_type": "code",
        "outputId": "2ed380fb-bf64-468b-d447-73834e0862e1",
        "colab": {
          "base_uri": "https://localhost:8080/",
          "height": 755
        }
      },
      "source": [
        "# Winter looks normal enough\n",
        "re_sales_winter.info()\n",
        "\n",
        "print(re_sales_winter.describe())\n",
        "\n",
        "plt.hist(re_sales_winter['sale_price'])\n",
        "plt.show()\n",
        "\n",
        "print(stats.describe(re_sales_winter['sale_price']))\n",
        "print(stats.shapiro(re_sales_winter['sale_price']))"
      ],
      "execution_count": 0,
      "outputs": [
        {
          "output_type": "stream",
          "text": [
            "<class 'pandas.core.frame.DataFrame'>\n",
            "Int64Index: 579 entries, 1 to 4510\n",
            "Data columns (total 11 columns):\n",
            "parcel              579 non-null object\n",
            "loc_address         579 non-null object\n",
            "htdsqft             579 non-null int64\n",
            "acres               579 non-null float64\n",
            "sale_date           579 non-null object\n",
            "sale_price          579 non-null int64\n",
            "sale_date_string    579 non-null object\n",
            "Year                579 non-null object\n",
            "Month               579 non-null object\n",
            "Day                 579 non-null object\n",
            "Season              579 non-null object\n",
            "dtypes: float64(1), int64(2), object(8)\n",
            "memory usage: 54.3+ KB\n",
            "           htdsqft       acres     sale_price\n",
            "count   579.000000  579.000000     579.000000\n",
            "mean   1459.466321    0.179979  163271.207254\n",
            "std     485.558769    0.152139   73564.072168\n",
            "min     267.000000    0.000000   23000.000000\n",
            "25%    1138.500000    0.045000  112000.000000\n",
            "50%    1361.000000    0.170000  150000.000000\n",
            "75%    1764.500000    0.255000  217100.000000\n",
            "max    3160.000000    1.110000  392500.000000\n"
          ],
          "name": "stdout"
        },
        {
          "output_type": "display_data",
          "data": {
            "image/png": "[encoded data removed]",
            "text/plain": [
              "<Figure size 432x288 with 1 Axes>"
            ]
          },
          "metadata": {
            "tags": []
          }
        },
        {
          "output_type": "stream",
          "text": [
            "DescribeResult(nobs=579, minmax=(23000, 392500), mean=163271.207253886, variance=5411672713.905069, skewness=0.5655239043967277, kurtosis=-0.2186502661462626)\n",
            "(0.9677886962890625, 5.793407975573928e-10)\n"
          ],
          "name": "stdout"
        }
      ]
    },
    {
      "cell_type": "markdown",
      "metadata": {
        "id": "2PEp8YyJifwC",
        "colab_type": "text"
      },
      "source": [
        "# Methods: Comparing Seasonality"
      ]
    },
    {
      "cell_type": "markdown",
      "metadata": {
        "id": "YyBH8i3Qihud",
        "colab_type": "text"
      },
      "source": [
        "Since all seasons have enough samples and are normal, I will run a group parametric test to see if there are significant differences between the sales prices. Anova and Tukey should provide some interesting insights on these independent variables."
      ]
    },
    {
      "cell_type": "code",
      "metadata": {
        "id": "PLOPi64WlIi-",
        "colab_type": "code",
        "outputId": "30f63ecf-5538-4723-9eac-e05d9a5d90b7",
        "colab": {
          "base_uri": "https://localhost:8080/",
          "height": 395
        }
      },
      "source": [
        "re_sales_cleanish['sale_price'].hist(by = re_sales_cleanish['Season'])"
      ],
      "execution_count": 0,
      "outputs": [
        {
          "output_type": "execute_result",
          "data": {
            "text/plain": [
              "array([[<matplotlib.axes._subplots.AxesSubplot object at 0x7f095e265f98>,\n",
              "        <matplotlib.axes._subplots.AxesSubplot object at 0x7f095e1dbf98>],\n",
              "       [<matplotlib.axes._subplots.AxesSubplot object at 0x7f095e196588>,\n",
              "        <matplotlib.axes._subplots.AxesSubplot object at 0x7f095e145b38>]],\n",
              "      dtype=object)"
            ]
          },
          "metadata": {
            "tags": []
          },
          "execution_count": 187
        },
        {
          "output_type": "display_data",
          "data": {
            "image/png": "[encoded data removed]",
            "text/plain": [
              "<Figure size 432x288 with 4 Axes>"
            ]
          },
          "metadata": {
            "tags": []
          }
        }
      ]
    },
    {
      "cell_type": "code",
      "metadata": {
        "id": "LmVsCrzjmUWK",
        "colab_type": "code",
        "outputId": "6a52fcc0-42a7-4b01-84c4-3c97c08319f2",
        "colab": {
          "base_uri": "https://localhost:8080/",
          "height": 437
        }
      },
      "source": [
        "re_sales_cleanish.boxplot('sale_price', by='Season', figsize=(10, 6))"
      ],
      "execution_count": 0,
      "outputs": [
        {
          "output_type": "execute_result",
          "data": {
            "text/plain": [
              "<matplotlib.axes._subplots.AxesSubplot at 0x7f095e23ffd0>"
            ]
          },
          "metadata": {
            "tags": []
          },
          "execution_count": 188
        },
        {
          "output_type": "display_data",
          "data": {
            "image/png": "[encoded data removed]",
            "text/plain": [
              "<Figure size 720x432 with 1 Axes>"
            ]
          },
          "metadata": {
            "tags": []
          }
        }
      ]
    },
    {
      "cell_type": "code",
      "metadata": {
        "id": "Y3o72lfjmpty",
        "colab_type": "code",
        "outputId": "197fc54e-b8c1-457e-a810-a16c108314d5",
        "colab": {
          "base_uri": "https://localhost:8080/",
          "height": 35
        }
      },
      "source": [
        "# Anova test - from the Anova test there doesn't seem to be a significant difference in sales price\n",
        "\n",
        "stats.f_oneway(re_sales_spring['sale_price'], re_sales_summer['sale_price'], re_sales_autumn['sale_price'], re_sales_winter['sale_price'])"
      ],
      "execution_count": 0,
      "outputs": [
        {
          "output_type": "execute_result",
          "data": {
            "text/plain": [
              "F_onewayResult(statistic=0.8292393713168614, pvalue=0.4776242905711011)"
            ]
          },
          "metadata": {
            "tags": []
          },
          "execution_count": 189
        }
      ]
    },
    {
      "cell_type": "code",
      "metadata": {
        "id": "L2kBJ_yalFPP",
        "colab_type": "code",
        "outputId": "6a4b2bc2-d628-4a0c-a3c9-116c8f97bd80",
        "colab": {
          "base_uri": "https://localhost:8080/",
          "height": 181
        }
      },
      "source": [
        "# Tukey further shows that the mean sales price fails to reject the null across all groups\n",
        "from statsmodels.stats.multicomp import pairwise_tukeyhsd\n",
        "\n",
        "tukey = pairwise_tukeyhsd(endog = re_sales_cleanish['sale_price'],      \n",
        "                          groups = re_sales_cleanish['Season'],  \n",
        "                          alpha=0.05)         \n",
        "tukey.summary()"
      ],
      "execution_count": 0,
      "outputs": [
        {
          "output_type": "execute_result",
          "data": {
            "text/html": [
              "<table class=\"simpletable\">\n",
              "<caption>Multiple Comparison of Means - Tukey HSD, FWER=0.05</caption>\n",
              "<tr>\n",
              "  <th>group1</th> <th>group2</th>  <th>meandiff</th>   <th>p-adj</th>    <th>lower</th>      <th>upper</th>   <th>reject</th>\n",
              "</tr>\n",
              "<tr>\n",
              "  <td>Autumn</td> <td>Spring</td> <td>-1482.7939</td>   <td>0.9</td>  <td>-11677.5151</td> <td>8711.9274</td>  <td>False</td>\n",
              "</tr>\n",
              "<tr>\n",
              "  <td>Autumn</td> <td>Summer</td> <td>-2506.8022</td>   <td>0.9</td>  <td>-12606.7103</td> <td>7593.1059</td>  <td>False</td>\n",
              "</tr>\n",
              "<tr>\n",
              "  <td>Autumn</td> <td>Winter</td> <td>-6515.7577</td> <td>0.4515</td> <td>-17836.5889</td> <td>4805.0734</td>  <td>False</td>\n",
              "</tr>\n",
              "<tr>\n",
              "  <td>Spring</td> <td>Summer</td> <td>-1024.0084</td>   <td>0.9</td>  <td>-9792.5722</td>  <td>7744.5554</td>  <td>False</td>\n",
              "</tr>\n",
              "<tr>\n",
              "  <td>Spring</td> <td>Winter</td> <td>-5032.9639</td> <td>0.5699</td> <td>-15183.8646</td> <td>5117.9368</td>  <td>False</td>\n",
              "</tr>\n",
              "<tr>\n",
              "  <td>Summer</td> <td>Winter</td> <td>-4008.9555</td>  <td>0.71</td>  <td>-14064.6299</td> <td>6046.7189</td>  <td>False</td>\n",
              "</tr>\n",
              "</table>"
            ],
            "text/plain": [
              "<class 'statsmodels.iolib.table.SimpleTable'>"
            ]
          },
          "metadata": {
            "tags": []
          },
          "execution_count": 190
        }
      ]
    },
    {
      "cell_type": "markdown",
      "metadata": {
        "id": "E1jIqOJ6pw1f",
        "colab_type": "text"
      },
      "source": [
        "# Results"
      ]
    },
    {
      "cell_type": "markdown",
      "metadata": {
        "id": "MscFcZRoplfe",
        "colab_type": "text"
      },
      "source": [
        "My results after cleaning, segmenting, and testing the data with Anova and Tukey tests show that there is not a significant difference in the sales price across seasons, at least not relative to the mean sales price. The pvalue provided to be two big in two separate tests to be reliable. Thus I was unable to reject the Null hypothesis"
      ]
    },
    {
      "cell_type": "markdown",
      "metadata": {
        "id": "2sKvi2U_pxAS",
        "colab_type": "text"
      },
      "source": [
        "# Discussion & Recommendations"
      ]
    },
    {
      "cell_type": "markdown",
      "metadata": {
        "id": "dO6aZhLosoix",
        "colab_type": "text"
      },
      "source": [
        "The biggest difference I noticed between the seasons was the number of transactions that occured.\n",
        "\n",
        "* In spring there were 935 transactions\n",
        "* In summer there were 983 transactions\n",
        "* In autumn there were 571 transactions\n",
        "* In Winter there were 579 transactions \n",
        "\n",
        "That is a pretty substantial number of transactions. However, it's difficult to draw linear conclusions from that fact alone. Were there more houses listed, a higher number of buyers, or both? \n",
        "\n",
        "Without additional data from the MLS that includes initial listing asking price and period listed it's difficult to draw any meaningful conclusions about pricing. \n",
        "\n",
        "It could be that the majority of houses in Gainesville, FL have a tight parameter of value that seasonality doesn't weight in. \n",
        "\n",
        "These data points also don't indicate quality of purchase - is the house purchased in spring of a lesser quality than one of a similar price in winter? Or vice versa?\n",
        "\n",
        "From here more questions emerge, but I do want to do additional testing with the data available (see below) to discover if price per squarefoot is different across seasons - this would give a better indication on quality and pricing relative to the size of the homes, a more accurate measurement then just base price."
      ]
    },
    {
      "cell_type": "markdown",
      "metadata": {
        "id": "fER1pL_Kve6D",
        "colab_type": "text"
      },
      "source": [
        "# Addendum Testing on PPSQFT"
      ]
    },
    {
      "cell_type": "markdown",
      "metadata": {
        "id": "MCLgcbmAwHfE",
        "colab_type": "text"
      },
      "source": [
        "### New Hypothesis\n",
        "\n",
        "Null Hypothesis = there will be no significant difference in price per squarefoot relative to season\n",
        "\n",
        "Alternative Hypothesis = there will be a significant difference in price per square foot relative to season"
      ]
    },
    {
      "cell_type": "markdown",
      "metadata": {
        "id": "G2qBvfJ5wWlE",
        "colab_type": "text"
      },
      "source": [
        "### Spring Testing "
      ]
    },
    {
      "cell_type": "code",
      "metadata": {
        "colab_type": "code",
        "id": "neEHs7JOg_C5",
        "colab": {}
      },
      "source": [
        "# adding a new column for price per sqft, it seems that htdsqft has some zero values\n",
        "\n",
        "no_zeros_sqft = re_sales_spring['htdsqft'] > 0\n",
        "\n",
        "re_sales_spring_updated = re_sales_spring.iloc[no_zeros_sqft.values]\n",
        "\n",
        "re_sales_spring_updated = re_sales_spring_updated.assign(price_per_sqft = ((re_sales_spring_updated.sale_price) / (re_sales_spring_updated.htdsqft)))\n",
        "\n",
        "re_sales_spring_updated.describe()\n"
      ],
      "execution_count": 0,
      "outputs": []
    },
    {
      "cell_type": "code",
      "metadata": {
        "id": "0x-cX6ak3qxs",
        "colab_type": "code",
        "outputId": "8b34bc25-6898-45a6-a769-8270c982d13d",
        "colab": {
          "base_uri": "https://localhost:8080/"
        }
      },
      "source": [
        "plt.hist(re_sales_spring_updated['price_per_sqft'])\n",
        "plt.show()\n",
        "\n",
        "print(stats.describe(re_sales_spring_updated['price_per_sqft']))\n",
        "print(stats.shapiro(re_sales_spring_updated['price_per_sqft']))"
      ],
      "execution_count": 0,
      "outputs": [
        {
          "output_type": "display_data",
          "data": {
            "image/png": "[encoded data removed]",
            "text/plain": [
              "<Figure size 432x288 with 1 Axes>"
            ]
          },
          "metadata": {
            "tags": []
          }
        },
        {
          "output_type": "stream",
          "text": [
            "DescribeResult(nobs=930, minmax=(12.285012285012286, 270.40816326530614), mean=113.17774726055792, variance=1244.631879315503, skewness=0.7377113379336068, kurtosis=1.8212141329725053)\n",
            "(0.963371217250824, 1.606787789030107e-14)\n"
          ],
          "name": "stdout"
        }
      ]
    },
    {
      "cell_type": "markdown",
      "metadata": {
        "id": "KPS4yRx54ALl",
        "colab_type": "text"
      },
      "source": [
        "### Summer Testing"
      ]
    },
    {
      "cell_type": "code",
      "metadata": {
        "id": "Kh38HmEK4Qkz",
        "colab_type": "code",
        "outputId": "f9a2b195-369a-4ddf-d474-5e84525839f5",
        "colab": {
          "base_uri": "https://localhost:8080/"
        }
      },
      "source": [
        "no_zeros_sqft_summer = re_sales_summer['htdsqft'] > 0\n",
        "\n",
        "re_sales_summer_updated = re_sales_spring.iloc[no_zeros_sqft.values]\n",
        "\n",
        "re_sales_summer_updated = re_sales_summer_updated.assign(price_per_sqft = ((re_sales_summer_updated.sale_price) / (re_sales_summer_updated.htdsqft)))\n",
        "\n",
        "re_sales_summer_updated.describe()"
      ],
      "execution_count": 0,
      "outputs": [
        {
          "output_type": "execute_result",
          "data": {
            "text/html": [
              "<div>\n",
              "<style scoped>\n",
              "    .dataframe tbody tr th:only-of-type {\n",
              "        vertical-align: middle;\n",
              "    }\n",
              "\n",
              "    .dataframe tbody tr th {\n",
              "        vertical-align: top;\n",
              "    }\n",
              "\n",
              "    .dataframe thead th {\n",
              "        text-align: right;\n",
              "    }\n",
              "</style>\n",
              "<table border=\"1\" class=\"dataframe\">\n",
              "  <thead>\n",
              "    <tr style=\"text-align: right;\">\n",
              "      <th></th>\n",
              "      <th>htdsqft</th>\n",
              "      <th>acres</th>\n",
              "      <th>sale_price</th>\n",
              "      <th>price_per_sqft</th>\n",
              "    </tr>\n",
              "  </thead>\n",
              "  <tbody>\n",
              "    <tr>\n",
              "      <th>count</th>\n",
              "      <td>930.000000</td>\n",
              "      <td>930.000000</td>\n",
              "      <td>930.000000</td>\n",
              "      <td>930.000000</td>\n",
              "    </tr>\n",
              "    <tr>\n",
              "      <th>mean</th>\n",
              "      <td>1486.817204</td>\n",
              "      <td>0.192368</td>\n",
              "      <td>168141.290323</td>\n",
              "      <td>113.177747</td>\n",
              "    </tr>\n",
              "    <tr>\n",
              "      <th>std</th>\n",
              "      <td>521.255583</td>\n",
              "      <td>0.190876</td>\n",
              "      <td>74531.623637</td>\n",
              "      <td>35.279341</td>\n",
              "    </tr>\n",
              "    <tr>\n",
              "      <th>min</th>\n",
              "      <td>515.000000</td>\n",
              "      <td>0.010000</td>\n",
              "      <td>22000.000000</td>\n",
              "      <td>12.285012</td>\n",
              "    </tr>\n",
              "    <tr>\n",
              "      <th>25%</th>\n",
              "      <td>1133.500000</td>\n",
              "      <td>0.030000</td>\n",
              "      <td>115000.000000</td>\n",
              "      <td>90.931818</td>\n",
              "    </tr>\n",
              "    <tr>\n",
              "      <th>50%</th>\n",
              "      <td>1363.000000</td>\n",
              "      <td>0.170000</td>\n",
              "      <td>151750.000000</td>\n",
              "      <td>111.900235</td>\n",
              "    </tr>\n",
              "    <tr>\n",
              "      <th>75%</th>\n",
              "      <td>1733.750000</td>\n",
              "      <td>0.270000</td>\n",
              "      <td>218500.000000</td>\n",
              "      <td>130.571494</td>\n",
              "    </tr>\n",
              "    <tr>\n",
              "      <th>max</th>\n",
              "      <td>4681.000000</td>\n",
              "      <td>1.890000</td>\n",
              "      <td>394000.000000</td>\n",
              "      <td>270.408163</td>\n",
              "    </tr>\n",
              "  </tbody>\n",
              "</table>\n",
              "</div>"
            ],
            "text/plain": [
              "           htdsqft       acres     sale_price  price_per_sqft\n",
              "count   930.000000  930.000000     930.000000      930.000000\n",
              "mean   1486.817204    0.192368  168141.290323      113.177747\n",
              "std     521.255583    0.190876   74531.623637       35.279341\n",
              "min     515.000000    0.010000   22000.000000       12.285012\n",
              "25%    1133.500000    0.030000  115000.000000       90.931818\n",
              "50%    1363.000000    0.170000  151750.000000      111.900235\n",
              "75%    1733.750000    0.270000  218500.000000      130.571494\n",
              "max    4681.000000    1.890000  394000.000000      270.408163"
            ]
          },
          "metadata": {
            "tags": []
          },
          "execution_count": 214
        }
      ]
    },
    {
      "cell_type": "code",
      "metadata": {
        "id": "84cA_v5b4y7q",
        "colab_type": "code",
        "outputId": "f49234c3-10ea-49de-d633-f01957fc8720",
        "colab": {
          "base_uri": "https://localhost:8080/"
        }
      },
      "source": [
        "plt.hist(re_sales_summer_updated['price_per_sqft'])\n",
        "plt.show()\n",
        "\n",
        "print(stats.describe(re_sales_summer_updated['price_per_sqft']))\n",
        "print(stats.shapiro(re_sales_summer_updated['price_per_sqft']))"
      ],
      "execution_count": 0,
      "outputs": [
        {
          "output_type": "display_data",
          "data": {
            "image/png": "[encoded data removed]",
            "text/plain": [
              "<Figure size 432x288 with 1 Axes>"
            ]
          },
          "metadata": {
            "tags": []
          }
        },
        {
          "output_type": "stream",
          "text": [
            "DescribeResult(nobs=930, minmax=(12.285012285012286, 270.40816326530614), mean=113.17774726055792, variance=1244.631879315503, skewness=0.7377113379336068, kurtosis=1.8212141329725053)\n",
            "(0.963371217250824, 1.606787789030107e-14)\n"
          ],
          "name": "stdout"
        }
      ]
    },
    {
      "cell_type": "markdown",
      "metadata": {
        "id": "91OhB4ff4ILC",
        "colab_type": "text"
      },
      "source": [
        "### Autumn Testing"
      ]
    },
    {
      "cell_type": "code",
      "metadata": {
        "id": "i2hSHAk64-Nz",
        "colab_type": "code",
        "outputId": "00487bac-ed2a-4fba-a734-24be0dfe6530",
        "colab": {
          "base_uri": "https://localhost:8080/"
        }
      },
      "source": [
        "no_zeros_sqft_autumn = re_sales_autumn['htdsqft'] > 0\n",
        "\n",
        "re_sales_autumn_updated = re_sales_autumn.iloc[no_zeros_sqft_autumn.values]\n",
        "\n",
        "re_sales_autumn_updated = re_sales_autumn_updated.assign(price_per_sqft = ((re_sales_autumn_updated.sale_price) / (re_sales_autumn_updated.htdsqft)))\n",
        "\n",
        "re_sales_autumn_updated.describe()"
      ],
      "execution_count": 0,
      "outputs": [
        {
          "output_type": "execute_result",
          "data": {
            "text/html": [
              "<div>\n",
              "<style scoped>\n",
              "    .dataframe tbody tr th:only-of-type {\n",
              "        vertical-align: middle;\n",
              "    }\n",
              "\n",
              "    .dataframe tbody tr th {\n",
              "        vertical-align: top;\n",
              "    }\n",
              "\n",
              "    .dataframe thead th {\n",
              "        text-align: right;\n",
              "    }\n",
              "</style>\n",
              "<table border=\"1\" class=\"dataframe\">\n",
              "  <thead>\n",
              "    <tr style=\"text-align: right;\">\n",
              "      <th></th>\n",
              "      <th>htdsqft</th>\n",
              "      <th>acres</th>\n",
              "      <th>sale_price</th>\n",
              "      <th>price_per_sqft</th>\n",
              "    </tr>\n",
              "  </thead>\n",
              "  <tbody>\n",
              "    <tr>\n",
              "      <th>count</th>\n",
              "      <td>570.000000</td>\n",
              "      <td>570.000000</td>\n",
              "      <td>570.000000</td>\n",
              "      <td>570.000000</td>\n",
              "    </tr>\n",
              "    <tr>\n",
              "      <th>mean</th>\n",
              "      <td>1503.924561</td>\n",
              "      <td>0.218184</td>\n",
              "      <td>169988.345614</td>\n",
              "      <td>112.357959</td>\n",
              "    </tr>\n",
              "    <tr>\n",
              "      <th>std</th>\n",
              "      <td>492.001853</td>\n",
              "      <td>0.445759</td>\n",
              "      <td>75554.612460</td>\n",
              "      <td>35.032840</td>\n",
              "    </tr>\n",
              "    <tr>\n",
              "      <th>min</th>\n",
              "      <td>531.000000</td>\n",
              "      <td>0.000000</td>\n",
              "      <td>33000.000000</td>\n",
              "      <td>25.388765</td>\n",
              "    </tr>\n",
              "    <tr>\n",
              "      <th>25%</th>\n",
              "      <td>1172.000000</td>\n",
              "      <td>0.076250</td>\n",
              "      <td>119225.000000</td>\n",
              "      <td>90.474056</td>\n",
              "    </tr>\n",
              "    <tr>\n",
              "      <th>50%</th>\n",
              "      <td>1402.000000</td>\n",
              "      <td>0.190000</td>\n",
              "      <td>156250.000000</td>\n",
              "      <td>112.929584</td>\n",
              "    </tr>\n",
              "    <tr>\n",
              "      <th>75%</th>\n",
              "      <td>1741.250000</td>\n",
              "      <td>0.260000</td>\n",
              "      <td>216750.000000</td>\n",
              "      <td>131.661833</td>\n",
              "    </tr>\n",
              "    <tr>\n",
              "      <th>max</th>\n",
              "      <td>4582.000000</td>\n",
              "      <td>10.000000</td>\n",
              "      <td>399000.000000</td>\n",
              "      <td>398.671096</td>\n",
              "    </tr>\n",
              "  </tbody>\n",
              "</table>\n",
              "</div>"
            ],
            "text/plain": [
              "           htdsqft       acres     sale_price  price_per_sqft\n",
              "count   570.000000  570.000000     570.000000      570.000000\n",
              "mean   1503.924561    0.218184  169988.345614      112.357959\n",
              "std     492.001853    0.445759   75554.612460       35.032840\n",
              "min     531.000000    0.000000   33000.000000       25.388765\n",
              "25%    1172.000000    0.076250  119225.000000       90.474056\n",
              "50%    1402.000000    0.190000  156250.000000      112.929584\n",
              "75%    1741.250000    0.260000  216750.000000      131.661833\n",
              "max    4582.000000   10.000000  399000.000000      398.671096"
            ]
          },
          "metadata": {
            "tags": []
          },
          "execution_count": 216
        }
      ]
    },
    {
      "cell_type": "code",
      "metadata": {
        "id": "MBapo-Mm5RDW",
        "colab_type": "code",
        "outputId": "68b7086b-1bfe-4ddc-cb26-00d6bf8370ff",
        "colab": {
          "base_uri": "https://localhost:8080/"
        }
      },
      "source": [
        "plt.hist(re_sales_autumn_updated['price_per_sqft'])\n",
        "plt.show()\n",
        "\n",
        "print(stats.describe(re_sales_autumn_updated['price_per_sqft']))\n",
        "print(stats.shapiro(re_sales_autumn_updated['price_per_sqft']))"
      ],
      "execution_count": 0,
      "outputs": [
        {
          "output_type": "display_data",
          "data": {
            "image/png": "[encoded data removed]",
            "text/plain": [
              "<Figure size 432x288 with 1 Axes>"
            ]
          },
          "metadata": {
            "tags": []
          }
        },
        {
          "output_type": "stream",
          "text": [
            "DescribeResult(nobs=570, minmax=(25.38876547127896, 398.67109634551497), mean=112.3579589002626, variance=1227.2999065860938, skewness=1.2290675880343405, kurtosis=8.50098148681751)\n",
            "(0.9305803179740906, 1.3500692974861579e-15)\n"
          ],
          "name": "stdout"
        }
      ]
    },
    {
      "cell_type": "markdown",
      "metadata": {
        "id": "ZadTT2e34Lsx",
        "colab_type": "text"
      },
      "source": [
        "### Winter Testing"
      ]
    },
    {
      "cell_type": "code",
      "metadata": {
        "id": "cvk3G9UX5aNJ",
        "colab_type": "code",
        "outputId": "869dabe5-52e3-4eaf-8cd6-60e9f6d74775",
        "colab": {
          "base_uri": "https://localhost:8080/"
        }
      },
      "source": [
        "no_zeros_sqft_winter = re_sales_winter['htdsqft'] > 0\n",
        "\n",
        "re_sales_winter_updated = re_sales_winter.iloc[no_zeros_sqft_winter.values]\n",
        "\n",
        "re_sales_winter_updated = re_sales_winter_updated.assign(price_per_sqft = ((re_sales_winter_updated.sale_price) / (re_sales_winter_updated.htdsqft)))\n",
        "\n",
        "re_sales_winter_updated.describe()"
      ],
      "execution_count": 0,
      "outputs": [
        {
          "output_type": "execute_result",
          "data": {
            "text/html": [
              "<div>\n",
              "<style scoped>\n",
              "    .dataframe tbody tr th:only-of-type {\n",
              "        vertical-align: middle;\n",
              "    }\n",
              "\n",
              "    .dataframe tbody tr th {\n",
              "        vertical-align: top;\n",
              "    }\n",
              "\n",
              "    .dataframe thead th {\n",
              "        text-align: right;\n",
              "    }\n",
              "</style>\n",
              "<table border=\"1\" class=\"dataframe\">\n",
              "  <thead>\n",
              "    <tr style=\"text-align: right;\">\n",
              "      <th></th>\n",
              "      <th>htdsqft</th>\n",
              "      <th>acres</th>\n",
              "      <th>sale_price</th>\n",
              "      <th>price_per_sqft</th>\n",
              "    </tr>\n",
              "  </thead>\n",
              "  <tbody>\n",
              "    <tr>\n",
              "      <th>count</th>\n",
              "      <td>579.000000</td>\n",
              "      <td>579.000000</td>\n",
              "      <td>579.000000</td>\n",
              "      <td>579.000000</td>\n",
              "    </tr>\n",
              "    <tr>\n",
              "      <th>mean</th>\n",
              "      <td>1459.466321</td>\n",
              "      <td>0.179979</td>\n",
              "      <td>163271.207254</td>\n",
              "      <td>110.948365</td>\n",
              "    </tr>\n",
              "    <tr>\n",
              "      <th>std</th>\n",
              "      <td>485.558769</td>\n",
              "      <td>0.152139</td>\n",
              "      <td>73564.072168</td>\n",
              "      <td>33.655299</td>\n",
              "    </tr>\n",
              "    <tr>\n",
              "      <th>min</th>\n",
              "      <td>267.000000</td>\n",
              "      <td>0.000000</td>\n",
              "      <td>23000.000000</td>\n",
              "      <td>28.376844</td>\n",
              "    </tr>\n",
              "    <tr>\n",
              "      <th>25%</th>\n",
              "      <td>1138.500000</td>\n",
              "      <td>0.045000</td>\n",
              "      <td>112000.000000</td>\n",
              "      <td>89.773814</td>\n",
              "    </tr>\n",
              "    <tr>\n",
              "      <th>50%</th>\n",
              "      <td>1361.000000</td>\n",
              "      <td>0.170000</td>\n",
              "      <td>150000.000000</td>\n",
              "      <td>109.489051</td>\n",
              "    </tr>\n",
              "    <tr>\n",
              "      <th>75%</th>\n",
              "      <td>1764.500000</td>\n",
              "      <td>0.255000</td>\n",
              "      <td>217100.000000</td>\n",
              "      <td>129.320299</td>\n",
              "    </tr>\n",
              "    <tr>\n",
              "      <th>max</th>\n",
              "      <td>3160.000000</td>\n",
              "      <td>1.110000</td>\n",
              "      <td>392500.000000</td>\n",
              "      <td>268.817204</td>\n",
              "    </tr>\n",
              "  </tbody>\n",
              "</table>\n",
              "</div>"
            ],
            "text/plain": [
              "           htdsqft       acres     sale_price  price_per_sqft\n",
              "count   579.000000  579.000000     579.000000      579.000000\n",
              "mean   1459.466321    0.179979  163271.207254      110.948365\n",
              "std     485.558769    0.152139   73564.072168       33.655299\n",
              "min     267.000000    0.000000   23000.000000       28.376844\n",
              "25%    1138.500000    0.045000  112000.000000       89.773814\n",
              "50%    1361.000000    0.170000  150000.000000      109.489051\n",
              "75%    1764.500000    0.255000  217100.000000      129.320299\n",
              "max    3160.000000    1.110000  392500.000000      268.817204"
            ]
          },
          "metadata": {
            "tags": []
          },
          "execution_count": 218
        }
      ]
    },
    {
      "cell_type": "code",
      "metadata": {
        "id": "4L-Xs9dW5qDi",
        "colab_type": "code",
        "outputId": "c33d117b-b6e6-4567-a3d4-c9c6efb5af16",
        "colab": {
          "base_uri": "https://localhost:8080/"
        }
      },
      "source": [
        "plt.hist(re_sales_winter_updated['price_per_sqft'])\n",
        "plt.show()\n",
        "\n",
        "print(stats.describe(re_sales_winter_updated['price_per_sqft']))\n",
        "print(stats.shapiro(re_sales_winter_updated['price_per_sqft']))"
      ],
      "execution_count": 0,
      "outputs": [
        {
          "output_type": "display_data",
          "data": {
            "image/png": "[encoded data removed]",
            "text/plain": [
              "<Figure size 432x288 with 1 Axes>"
            ]
          },
          "metadata": {
            "tags": []
          }
        },
        {
          "output_type": "stream",
          "text": [
            "DescribeResult(nobs=579, minmax=(28.37684449489217, 268.81720430107526), mean=110.94836462639992, variance=1132.6791538279126, skewness=0.7098522981755663, kurtosis=2.1363983726322404)\n",
            "(0.967106819152832, 4.2166553582134725e-10)\n"
          ],
          "name": "stdout"
        }
      ]
    },
    {
      "cell_type": "markdown",
      "metadata": {
        "id": "ZUrQ8z3p54J6",
        "colab_type": "text"
      },
      "source": [
        "### Comparing Seasonality by price per squarefoot"
      ]
    },
    {
      "cell_type": "code",
      "metadata": {
        "id": "DUw96BaV5_nx",
        "colab_type": "code",
        "outputId": "5a0762d9-dc4b-4932-8aa7-ca316e8fa5e4",
        "colab": {
          "base_uri": "https://localhost:8080/",
          "height": 294
        }
      },
      "source": [
        "# I realize now I have to clean htdsqft for the whole data set. *sad noises*\n",
        "\n",
        "no_zeros_sqft_total = re_sales_cleanish['htdsqft'] > 0\n",
        "\n",
        "re_sales_final =  re_sales_cleanish.iloc[no_zeros_sqft_total.values]\n",
        "\n",
        "re_sales_final = re_sales_final.assign(price_per_sqft = ((re_sales_final.sale_price) / (re_sales_final.htdsqft)))\n",
        "\n",
        "re_sales_final.describe()"
      ],
      "execution_count": 0,
      "outputs": [
        {
          "output_type": "execute_result",
          "data": {
            "text/html": [
              "<div>\n",
              "<style scoped>\n",
              "    .dataframe tbody tr th:only-of-type {\n",
              "        vertical-align: middle;\n",
              "    }\n",
              "\n",
              "    .dataframe tbody tr th {\n",
              "        vertical-align: top;\n",
              "    }\n",
              "\n",
              "    .dataframe thead th {\n",
              "        text-align: right;\n",
              "    }\n",
              "</style>\n",
              "<table border=\"1\" class=\"dataframe\">\n",
              "  <thead>\n",
              "    <tr style=\"text-align: right;\">\n",
              "      <th></th>\n",
              "      <th>htdsqft</th>\n",
              "      <th>acres</th>\n",
              "      <th>sale_price</th>\n",
              "      <th>price_per_sqft</th>\n",
              "    </tr>\n",
              "  </thead>\n",
              "  <tbody>\n",
              "    <tr>\n",
              "      <th>count</th>\n",
              "      <td>3060.000000</td>\n",
              "      <td>3060.000000</td>\n",
              "      <td>3060.000000</td>\n",
              "      <td>3060.000000</td>\n",
              "    </tr>\n",
              "    <tr>\n",
              "      <th>mean</th>\n",
              "      <td>1482.064052</td>\n",
              "      <td>0.199614</td>\n",
              "      <td>167213.818954</td>\n",
              "      <td>112.237198</td>\n",
              "    </tr>\n",
              "    <tr>\n",
              "      <th>std</th>\n",
              "      <td>499.206364</td>\n",
              "      <td>0.285201</td>\n",
              "      <td>74543.525309</td>\n",
              "      <td>34.246660</td>\n",
              "    </tr>\n",
              "    <tr>\n",
              "      <th>min</th>\n",
              "      <td>267.000000</td>\n",
              "      <td>0.000000</td>\n",
              "      <td>22000.000000</td>\n",
              "      <td>12.285012</td>\n",
              "    </tr>\n",
              "    <tr>\n",
              "      <th>25%</th>\n",
              "      <td>1141.000000</td>\n",
              "      <td>0.040000</td>\n",
              "      <td>114900.000000</td>\n",
              "      <td>90.909091</td>\n",
              "    </tr>\n",
              "    <tr>\n",
              "      <th>50%</th>\n",
              "      <td>1370.000000</td>\n",
              "      <td>0.180000</td>\n",
              "      <td>153850.000000</td>\n",
              "      <td>111.822890</td>\n",
              "    </tr>\n",
              "    <tr>\n",
              "      <th>75%</th>\n",
              "      <td>1746.250000</td>\n",
              "      <td>0.260000</td>\n",
              "      <td>217000.000000</td>\n",
              "      <td>130.210288</td>\n",
              "    </tr>\n",
              "    <tr>\n",
              "      <th>max</th>\n",
              "      <td>4681.000000</td>\n",
              "      <td>10.000000</td>\n",
              "      <td>399000.000000</td>\n",
              "      <td>405.263158</td>\n",
              "    </tr>\n",
              "  </tbody>\n",
              "</table>\n",
              "</div>"
            ],
            "text/plain": [
              "           htdsqft        acres     sale_price  price_per_sqft\n",
              "count  3060.000000  3060.000000    3060.000000     3060.000000\n",
              "mean   1482.064052     0.199614  167213.818954      112.237198\n",
              "std     499.206364     0.285201   74543.525309       34.246660\n",
              "min     267.000000     0.000000   22000.000000       12.285012\n",
              "25%    1141.000000     0.040000  114900.000000       90.909091\n",
              "50%    1370.000000     0.180000  153850.000000      111.822890\n",
              "75%    1746.250000     0.260000  217000.000000      130.210288\n",
              "max    4681.000000    10.000000  399000.000000      405.263158"
            ]
          },
          "metadata": {
            "tags": []
          },
          "execution_count": 221
        }
      ]
    },
    {
      "cell_type": "code",
      "metadata": {
        "id": "8fbAoxzM6np4",
        "colab_type": "code",
        "outputId": "c322e738-a225-404b-d3b0-5ca267671145",
        "colab": {
          "base_uri": "https://localhost:8080/",
          "height": 376
        }
      },
      "source": [
        "re_sales_final['price_per_sqft'].hist(by = re_sales_cleanish['Season'])"
      ],
      "execution_count": 0,
      "outputs": [
        {
          "output_type": "execute_result",
          "data": {
            "text/plain": [
              "array([[<matplotlib.axes._subplots.AxesSubplot object at 0x7f095f1e7400>,\n",
              "        <matplotlib.axes._subplots.AxesSubplot object at 0x7f095f1d5710>],\n",
              "       [<matplotlib.axes._subplots.AxesSubplot object at 0x7f095f1c2908>,\n",
              "        <matplotlib.axes._subplots.AxesSubplot object at 0x7f095e96f390>]],\n",
              "      dtype=object)"
            ]
          },
          "metadata": {
            "tags": []
          },
          "execution_count": 222
        },
        {
          "output_type": "display_data",
          "data": {
            "image/png": "[encoded data removed]",
            "text/plain": [
              "<Figure size 432x288 with 4 Axes>"
            ]
          },
          "metadata": {
            "tags": []
          }
        }
      ]
    },
    {
      "cell_type": "code",
      "metadata": {
        "id": "5JORyya-63Ge",
        "colab_type": "code",
        "outputId": "635ffac5-6d02-4b9d-9e2e-577bafc6595d",
        "colab": {
          "base_uri": "https://localhost:8080/",
          "height": 437
        }
      },
      "source": [
        "re_sales_final.boxplot('price_per_sqft', by='Season', figsize=(10, 6))"
      ],
      "execution_count": 0,
      "outputs": [
        {
          "output_type": "execute_result",
          "data": {
            "text/plain": [
              "<matplotlib.axes._subplots.AxesSubplot at 0x7f095e9a3860>"
            ]
          },
          "metadata": {
            "tags": []
          },
          "execution_count": 223
        },
        {
          "output_type": "display_data",
          "data": {
            "image/png": "[encoded data removed]",
            "text/plain": [
              "<Figure size 720x432 with 1 Axes>"
            ]
          },
          "metadata": {
            "tags": []
          }
        }
      ]
    },
    {
      "cell_type": "code",
      "metadata": {
        "id": "Us1DGOtm6_hE",
        "colab_type": "code",
        "outputId": "b892a26e-7518-4e27-f43f-46abd8eff323",
        "colab": {
          "base_uri": "https://localhost:8080/",
          "height": 35
        }
      },
      "source": [
        "# Anova test - from the Anova test there doesn't seem to be a significant difference in price per sqft\n",
        "\n",
        "stats.f_oneway(re_sales_spring_updated['price_per_sqft'], re_sales_summer_updated['price_per_sqft'], re_sales_autumn_updated['price_per_sqft'], re_sales_winter_updated['price_per_sqft'])"
      ],
      "execution_count": 0,
      "outputs": [
        {
          "output_type": "execute_result",
          "data": {
            "text/plain": [
              "F_onewayResult(statistic=0.6103572114470143, pvalue=0.6082515568703708)"
            ]
          },
          "metadata": {
            "tags": []
          },
          "execution_count": 224
        }
      ]
    },
    {
      "cell_type": "code",
      "metadata": {
        "id": "8oNxkXiZ7dC0",
        "colab_type": "code",
        "outputId": "8718285f-c483-412e-a77c-f20d67921a5d",
        "colab": {
          "base_uri": "https://localhost:8080/",
          "height": 181
        }
      },
      "source": [
        "# Tukey further shows that the mean price per squarefoot fails to reject the null across all groups\n",
        "from statsmodels.stats.multicomp import pairwise_tukeyhsd\n",
        "\n",
        "tukey = pairwise_tukeyhsd(endog = re_sales_final['price_per_sqft'],      \n",
        "                          groups = re_sales_final['Season'],  \n",
        "                          alpha=0.05)         \n",
        "tukey.summary()"
      ],
      "execution_count": 0,
      "outputs": [
        {
          "output_type": "execute_result",
          "data": {
            "text/html": [
              "<table class=\"simpletable\">\n",
              "<caption>Multiple Comparison of Means - Tukey HSD, FWER=0.05</caption>\n",
              "<tr>\n",
              "  <th>group1</th> <th>group2</th> <th>meandiff</th>  <th>p-adj</th>  <th>lower</th>   <th>upper</th> <th>reject</th>\n",
              "</tr>\n",
              "<tr>\n",
              "  <td>Autumn</td> <td>Spring</td>  <td>0.8198</td>    <td>0.9</td>  <td>-3.864</td>  <td>5.5036</td>  <td>False</td>\n",
              "</tr>\n",
              "<tr>\n",
              "  <td>Autumn</td> <td>Summer</td>  <td>-0.3219</td>   <td>0.9</td>  <td>-4.9592</td> <td>4.3154</td>  <td>False</td>\n",
              "</tr>\n",
              "<tr>\n",
              "  <td>Autumn</td> <td>Winter</td>  <td>-1.4096</td> <td>0.8937</td> <td>-6.6049</td> <td>3.7857</td>  <td>False</td>\n",
              "</tr>\n",
              "<tr>\n",
              "  <td>Spring</td> <td>Summer</td>  <td>-1.1417</td> <td>0.8764</td> <td>-5.1715</td> <td>2.8881</td>  <td>False</td>\n",
              "</tr>\n",
              "<tr>\n",
              "  <td>Spring</td> <td>Winter</td>  <td>-2.2294</td> <td>0.5951</td> <td>-6.8905</td> <td>2.4318</td>  <td>False</td>\n",
              "</tr>\n",
              "<tr>\n",
              "  <td>Summer</td> <td>Winter</td>  <td>-1.0877</td>   <td>0.9</td>  <td>-5.7021</td> <td>3.5267</td>  <td>False</td>\n",
              "</tr>\n",
              "</table>"
            ],
            "text/plain": [
              "<class 'statsmodels.iolib.table.SimpleTable'>"
            ]
          },
          "metadata": {
            "tags": []
          },
          "execution_count": 225
        }
      ]
    },
    {
      "cell_type": "markdown",
      "metadata": {
        "id": "Lw6N0f0X8DhA",
        "colab_type": "text"
      },
      "source": [
        "### Conclusion"
      ]
    },
    {
      "cell_type": "markdown",
      "metadata": {
        "id": "QZBbc9Yq8LDl",
        "colab_type": "text"
      },
      "source": [
        "Again failed to refute the null hypothesis. Not sure if it's because the range of values is too wide to accurately determine a solid mean value, but the distributions seemed normal for the most part.\n",
        "\n",
        "I was hopeful this time since the histograms appeared different on first glance, but the pvalues provided proved to be just too big.\n",
        "\n",
        "I feel there is significance to the difference in the number of transactions, but perhaps this isn't the data to prove it. Worried about bias kicking in if I keep digging and segmenting the data further."
      ]
    }
  ]
}